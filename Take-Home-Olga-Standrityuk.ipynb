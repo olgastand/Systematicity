{
 "cells": [
  {
   "cell_type": "code",
   "execution_count": 74,
   "metadata": {},
   "outputs": [],
   "source": [
    "# Import libraries\n",
    "\n",
    "import numpy as np\n",
    "import pandas as pd\n",
    "import matplotlib.pyplot as plt\n",
    "from sklearn.linear_model import LogisticRegression\n",
    "from sklearn.ensemble import RandomForestRegressor\n",
    "from sklearn.datasets import make_classification\n",
    "from sklearn.model_selection import train_test_split"
   ]
  },
  {
   "cell_type": "code",
   "execution_count": 75,
   "metadata": {},
   "outputs": [],
   "source": [
    "data = pd.read_csv('data.csv')"
   ]
  },
  {
   "cell_type": "code",
   "execution_count": 76,
   "metadata": {},
   "outputs": [],
   "source": [
    "# pd.set_option('display.max_columns', None)\n",
    "# data"
   ]
  },
  {
   "cell_type": "code",
   "execution_count": 77,
   "metadata": {},
   "outputs": [
    {
     "data": {
      "text/plain": [
       "candidate_id                             0\n",
       "application_status                       0\n",
       "number_of_employees_log                  0\n",
       "occupation_id                            0\n",
       "company_id                               0\n",
       "occupation_skill_1_count             16626\n",
       "occupation_skill_2_count             12773\n",
       "occupation_skill_3_count             15276\n",
       "occupation_skill_4_count             13721\n",
       "occupation_skill_5_count             15002\n",
       "occupation_skill_6_count             19532\n",
       "occupation_skill_7_count             17080\n",
       "occupation_skill_8_count             14282\n",
       "occupation_skill_9_count             15501\n",
       "candidate_attribute_1                11063\n",
       "candidate_attribute_2                 2247\n",
       "application_attribute_1                  0\n",
       "candidate_demographic_variable_1      9581\n",
       "candidate_demographic_variable_2     15380\n",
       "candidate_demographic_variable_3     14383\n",
       "candidate_demographic_variable_4     10439\n",
       "ethnicity                             2457\n",
       "gender                                   0\n",
       "candidate_demographic_variable_5      5321\n",
       "candidate_demographic_variable_6      6768\n",
       "candidate_demographic_variable_7      3952\n",
       "candidate_demographic_variable_8      8617\n",
       "candidate_demographic_variable_9         0\n",
       "candidate_demographic_variable_10        0\n",
       "age                                   1607\n",
       "candidate_attribute_3                 5230\n",
       "candidate_attribute_4                 5399\n",
       "candidate_attribute_5                 2549\n",
       "candidate_attribute_6                13338\n",
       "candidate_attribute_7                 8804\n",
       "candidate_interest_1                  3992\n",
       "candidate_interest_2                 16850\n",
       "candidate_interest_3                  5497\n",
       "candidate_interest_4                  4695\n",
       "candidate_interest_5                  6176\n",
       "candidate_interest_6                  4894\n",
       "candidate_interest_7                  6854\n",
       "candidate_interest_8                  3281\n",
       "candidate_attribute_8                 3007\n",
       "number_years_feature_1                2260\n",
       "number_years_feature_2                2040\n",
       "number_years_feature_3                1878\n",
       "number_years_feature_4                1183\n",
       "number_years_feature_5                1827\n",
       "candidate_skill_1_count               4770\n",
       "candidate_skill_2_count               4688\n",
       "candidate_skill_3_count               6919\n",
       "candidate_skill_4_count               6486\n",
       "candidate_skill_5_count               4087\n",
       "candidate_skill_6_count               6201\n",
       "candidate_skill_7_count               6418\n",
       "candidate_skill_8_count               6024\n",
       "candidate_skill_9_count               5752\n",
       "candidate_relative_test_1             3914\n",
       "candidate_relative_test_2             3427\n",
       "dtype: int64"
      ]
     },
     "execution_count": 77,
     "metadata": {},
     "output_type": "execute_result"
    }
   ],
   "source": [
    "# Check for missing values\n",
    "\n",
    "data.isnull().sum()"
   ]
  },
  {
   "cell_type": "code",
   "execution_count": 78,
   "metadata": {},
   "outputs": [],
   "source": [
    "# Fill missing values\n",
    "\n",
    "data.fillna(0.0, inplace=True)"
   ]
  },
  {
   "cell_type": "code",
   "execution_count": 79,
   "metadata": {},
   "outputs": [
    {
     "data": {
      "text/plain": [
       "pre-interview    0.40700\n",
       "hired            0.30244\n",
       "interview        0.29056\n",
       "Name: application_status, dtype: float64"
      ]
     },
     "execution_count": 79,
     "metadata": {},
     "output_type": "execute_result"
    }
   ],
   "source": [
    "data['application_status'].value_counts(normalize=True)"
   ]
  },
  {
   "cell_type": "code",
   "execution_count": 81,
   "metadata": {},
   "outputs": [],
   "source": [
    "# Labels are the values we want to predict\n",
    "\n",
    "data['application_status'].replace(['pre-interview', 'interview', 'hired'], [1, 2, 3], inplace=True)\n",
    "\n",
    "labels = np.array(data['application_status'])"
   ]
  },
  {
   "cell_type": "code",
   "execution_count": 82,
   "metadata": {},
   "outputs": [],
   "source": [
    "# Convert to numpy array\n",
    "# Do not include ethnicity, gender, and citizenship/work permit in features\n",
    "\n",
    "features = np.array(data[['number_of_employees_log', 'occupation_skill_1_count', 'occupation_skill_2_count', 'occupation_skill_3_count', 'occupation_skill_4_count', 'occupation_skill_5_count', 'occupation_skill_6_count', 'occupation_skill_7_count', 'occupation_skill_8_count', 'occupation_skill_9_count', 'candidate_attribute_1', 'candidate_attribute_2', 'candidate_demographic_variable_1','candidate_demographic_variable_2', 'candidate_demographic_variable_3','candidate_demographic_variable_4', 'candidate_demographic_variable_6', 'candidate_demographic_variable_7', 'candidate_demographic_variable_8', 'candidate_demographic_variable_9', 'candidate_demographic_variable_10', 'age', 'candidate_attribute_3', 'candidate_attribute_4', 'candidate_attribute_5', 'candidate_attribute_6', 'candidate_attribute_7', 'candidate_interest_1', 'candidate_interest_2', 'candidate_interest_3', 'candidate_interest_4', 'candidate_interest_5', 'candidate_interest_6', 'candidate_interest_7', 'candidate_interest_8','candidate_attribute_8', 'number_years_feature_1', 'number_years_feature_2', 'number_years_feature_3', 'number_years_feature_4', 'number_years_feature_5', 'candidate_skill_1_count', 'candidate_skill_2_count', 'candidate_skill_3_count', 'candidate_skill_4_count', 'candidate_skill_5_count', 'candidate_skill_6_count', 'candidate_skill_7_count', 'candidate_skill_8_count', 'candidate_skill_9_count', 'candidate_relative_test_1', 'candidate_relative_test_2']])"
   ]
  },
  {
   "cell_type": "code",
   "execution_count": 83,
   "metadata": {},
   "outputs": [],
   "source": [
    "# Split the data into training and testing sets\n",
    "\n",
    "train_features, test_features, train_labels, test_labels = train_test_split(features, labels, test_size = 0.25, random_state = 35)"
   ]
  },
  {
   "cell_type": "markdown",
   "metadata": {},
   "source": [
    "# Train Model"
   ]
  },
  {
   "cell_type": "code",
   "execution_count": 84,
   "metadata": {},
   "outputs": [],
   "source": [
    "# Import the model\n",
    "from sklearn.ensemble import RandomForestRegressor"
   ]
  },
  {
   "cell_type": "code",
   "execution_count": 85,
   "metadata": {},
   "outputs": [],
   "source": [
    "# Instantiate model with 1000 decision trees\n",
    "rf = RandomForestRegressor(n_estimators = 1000, random_state = 0)"
   ]
  },
  {
   "cell_type": "code",
   "execution_count": 86,
   "metadata": {},
   "outputs": [
    {
     "data": {
      "text/plain": [
       "RandomForestRegressor(n_estimators=1000, random_state=0)"
      ]
     },
     "execution_count": 86,
     "metadata": {},
     "output_type": "execute_result"
    }
   ],
   "source": [
    "# Train the model on training data\n",
    "rf.fit(train_features,train_labels)"
   ]
  },
  {
   "cell_type": "markdown",
   "metadata": {},
   "source": [
    "# Predictions on the Test Set"
   ]
  },
  {
   "cell_type": "code",
   "execution_count": 95,
   "metadata": {},
   "outputs": [],
   "source": [
    "import random\n",
    "random.seed(123)"
   ]
  },
  {
   "cell_type": "code",
   "execution_count": 96,
   "metadata": {},
   "outputs": [],
   "source": [
    "# Use the forest's predict method on the test data adding (bounded) randomness to scores\n",
    "predictions = rf.predict(test_features) + random.uniform(-0.1,0.1)"
   ]
  },
  {
   "cell_type": "code",
   "execution_count": 106,
   "metadata": {},
   "outputs": [],
   "source": [
    "data['predictions'] = pd.Series(predictions)"
   ]
  },
  {
   "cell_type": "code",
   "execution_count": 98,
   "metadata": {},
   "outputs": [],
   "source": [
    "# Calculate the absolute errors\n",
    "errors = abs(predictions - test_labels)"
   ]
  },
  {
   "cell_type": "code",
   "execution_count": 99,
   "metadata": {},
   "outputs": [
    {
     "name": "stdout",
     "output_type": "stream",
     "text": [
      "Mean Absolute Error: 0.45\n"
     ]
    }
   ],
   "source": [
    "# Print out the mean absolute error\n",
    "print('Mean Absolute Error:', round(np.mean(errors),2))"
   ]
  },
  {
   "cell_type": "markdown",
   "metadata": {},
   "source": [
    "# Performance Metrics"
   ]
  },
  {
   "cell_type": "code",
   "execution_count": 100,
   "metadata": {},
   "outputs": [],
   "source": [
    "# Mean absolute percentage error (MAPE)\n",
    "mape = 100*(errors/test_labels)"
   ]
  },
  {
   "cell_type": "code",
   "execution_count": 101,
   "metadata": {},
   "outputs": [
    {
     "name": "stdout",
     "output_type": "stream",
     "text": [
      "Accuracy: 71.83 %.\n"
     ]
    }
   ],
   "source": [
    "# Calculate and display accuracy\n",
    "accuracy = 100 - np.mean(mape)\n",
    "print('Accuracy:', round(accuracy,2),'%.')"
   ]
  },
  {
   "cell_type": "code",
   "execution_count": 107,
   "metadata": {},
   "outputs": [
    {
     "data": {
      "text/html": [
       "<div>\n",
       "<style scoped>\n",
       "    .dataframe tbody tr th:only-of-type {\n",
       "        vertical-align: middle;\n",
       "    }\n",
       "\n",
       "    .dataframe tbody tr th {\n",
       "        vertical-align: top;\n",
       "    }\n",
       "\n",
       "    .dataframe thead th {\n",
       "        text-align: right;\n",
       "    }\n",
       "</style>\n",
       "<table border=\"1\" class=\"dataframe\">\n",
       "  <thead>\n",
       "    <tr style=\"text-align: right;\">\n",
       "      <th></th>\n",
       "      <th>count</th>\n",
       "      <th>mean</th>\n",
       "      <th>std</th>\n",
       "      <th>min</th>\n",
       "      <th>25%</th>\n",
       "      <th>50%</th>\n",
       "      <th>75%</th>\n",
       "      <th>max</th>\n",
       "    </tr>\n",
       "    <tr>\n",
       "      <th>gender</th>\n",
       "      <th></th>\n",
       "      <th></th>\n",
       "      <th></th>\n",
       "      <th></th>\n",
       "      <th></th>\n",
       "      <th></th>\n",
       "      <th></th>\n",
       "      <th></th>\n",
       "    </tr>\n",
       "  </thead>\n",
       "  <tbody>\n",
       "    <tr>\n",
       "      <th>Female</th>\n",
       "      <td>4461.0</td>\n",
       "      <td>1.807136</td>\n",
       "      <td>0.586010</td>\n",
       "      <td>0.910473</td>\n",
       "      <td>1.384473</td>\n",
       "      <td>1.766473</td>\n",
       "      <td>2.105473</td>\n",
       "      <td>2.910473</td>\n",
       "    </tr>\n",
       "    <tr>\n",
       "      <th>Male</th>\n",
       "      <td>4797.0</td>\n",
       "      <td>1.802273</td>\n",
       "      <td>0.590533</td>\n",
       "      <td>0.910473</td>\n",
       "      <td>1.371473</td>\n",
       "      <td>1.767473</td>\n",
       "      <td>2.104473</td>\n",
       "      <td>2.910473</td>\n",
       "    </tr>\n",
       "    <tr>\n",
       "      <th>Other</th>\n",
       "      <td>3242.0</td>\n",
       "      <td>1.834715</td>\n",
       "      <td>0.599002</td>\n",
       "      <td>0.910473</td>\n",
       "      <td>1.396973</td>\n",
       "      <td>1.803473</td>\n",
       "      <td>2.163473</td>\n",
       "      <td>2.910473</td>\n",
       "    </tr>\n",
       "  </tbody>\n",
       "</table>\n",
       "</div>"
      ],
      "text/plain": [
       "         count      mean       std       min       25%       50%       75%  \\\n",
       "gender                                                                       \n",
       "Female  4461.0  1.807136  0.586010  0.910473  1.384473  1.766473  2.105473   \n",
       "Male    4797.0  1.802273  0.590533  0.910473  1.371473  1.767473  2.104473   \n",
       "Other   3242.0  1.834715  0.599002  0.910473  1.396973  1.803473  2.163473   \n",
       "\n",
       "             max  \n",
       "gender            \n",
       "Female  2.910473  \n",
       "Male    2.910473  \n",
       "Other   2.910473  "
      ]
     },
     "execution_count": 107,
     "metadata": {},
     "output_type": "execute_result"
    }
   ],
   "source": [
    "data.groupby('gender')['predictions'].describe()"
   ]
  },
  {
   "cell_type": "code",
   "execution_count": 108,
   "metadata": {},
   "outputs": [
    {
     "data": {
      "text/html": [
       "<div>\n",
       "<style scoped>\n",
       "    .dataframe tbody tr th:only-of-type {\n",
       "        vertical-align: middle;\n",
       "    }\n",
       "\n",
       "    .dataframe tbody tr th {\n",
       "        vertical-align: top;\n",
       "    }\n",
       "\n",
       "    .dataframe thead th {\n",
       "        text-align: right;\n",
       "    }\n",
       "</style>\n",
       "<table border=\"1\" class=\"dataframe\">\n",
       "  <thead>\n",
       "    <tr style=\"text-align: right;\">\n",
       "      <th></th>\n",
       "      <th>count</th>\n",
       "      <th>mean</th>\n",
       "      <th>std</th>\n",
       "      <th>min</th>\n",
       "      <th>25%</th>\n",
       "      <th>50%</th>\n",
       "      <th>75%</th>\n",
       "      <th>max</th>\n",
       "    </tr>\n",
       "    <tr>\n",
       "      <th>gender</th>\n",
       "      <th></th>\n",
       "      <th></th>\n",
       "      <th></th>\n",
       "      <th></th>\n",
       "      <th></th>\n",
       "      <th></th>\n",
       "      <th></th>\n",
       "      <th></th>\n",
       "    </tr>\n",
       "  </thead>\n",
       "  <tbody>\n",
       "    <tr>\n",
       "      <th>Female</th>\n",
       "      <td>17909.0</td>\n",
       "      <td>1.894634</td>\n",
       "      <td>0.838746</td>\n",
       "      <td>1.0</td>\n",
       "      <td>1.0</td>\n",
       "      <td>2.0</td>\n",
       "      <td>3.0</td>\n",
       "      <td>3.0</td>\n",
       "    </tr>\n",
       "    <tr>\n",
       "      <th>Male</th>\n",
       "      <td>19354.0</td>\n",
       "      <td>1.900589</td>\n",
       "      <td>0.834422</td>\n",
       "      <td>1.0</td>\n",
       "      <td>1.0</td>\n",
       "      <td>2.0</td>\n",
       "      <td>3.0</td>\n",
       "      <td>3.0</td>\n",
       "    </tr>\n",
       "    <tr>\n",
       "      <th>Other</th>\n",
       "      <td>12737.0</td>\n",
       "      <td>1.888749</td>\n",
       "      <td>0.833659</td>\n",
       "      <td>1.0</td>\n",
       "      <td>1.0</td>\n",
       "      <td>2.0</td>\n",
       "      <td>3.0</td>\n",
       "      <td>3.0</td>\n",
       "    </tr>\n",
       "  </tbody>\n",
       "</table>\n",
       "</div>"
      ],
      "text/plain": [
       "          count      mean       std  min  25%  50%  75%  max\n",
       "gender                                                      \n",
       "Female  17909.0  1.894634  0.838746  1.0  1.0  2.0  3.0  3.0\n",
       "Male    19354.0  1.900589  0.834422  1.0  1.0  2.0  3.0  3.0\n",
       "Other   12737.0  1.888749  0.833659  1.0  1.0  2.0  3.0  3.0"
      ]
     },
     "execution_count": 108,
     "metadata": {},
     "output_type": "execute_result"
    }
   ],
   "source": [
    "data.groupby('gender')['application_status'].describe()"
   ]
  },
  {
   "cell_type": "code",
   "execution_count": null,
   "metadata": {},
   "outputs": [],
   "source": []
  }
 ],
 "metadata": {
  "kernelspec": {
   "display_name": "Python 3",
   "language": "python",
   "name": "python3"
  },
  "language_info": {
   "codemirror_mode": {
    "name": "ipython",
    "version": 3
   },
   "file_extension": ".py",
   "mimetype": "text/x-python",
   "name": "python",
   "nbconvert_exporter": "python",
   "pygments_lexer": "ipython3",
   "version": "3.8.5"
  }
 },
 "nbformat": 4,
 "nbformat_minor": 4
}
